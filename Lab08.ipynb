{
 "cells": [
  {
   "cell_type": "markdown",
   "metadata": {},
   "source": [
    "# 🧪 Laboratorio 8\n",
    "Integrantes\n",
    "- Diego Alexander Hernández Silvestre - 21270\n",
    "- Linda Inés Jiménez Vides - 21169\n",
    "- Mario Antonio Guerra Morales - 21008\n",
    "- Kristopher Javier Alvarado López - 21188\n",
    "\n",
    "## 💻 Task 1"
   ]
  },
  {
   "cell_type": "code",
   "execution_count": null,
   "metadata": {},
   "outputs": [],
   "source": []
  },
  {
   "cell_type": "markdown",
   "metadata": {},
   "source": [
    "## 💻 Task 2"
   ]
  },
  {
   "cell_type": "markdown",
   "metadata": {},
   "source": [
    "**1. ¿Cuál es el problema del gradiente de fuga en las redes LSTM y cómo afecta la efectividad de LSTM para el pronóstico de series temporales**\n",
    "\n",
    "El problema del gradiente de fuga en las redes LSTM ocurre cuando los gradientes se vuelven muy pequeños durante el backpropagation, lo que limita la capacidad de la red para aprender patrones a largo plazo en series temporales. Aunque las LSTM esten diseñadas para mitigar este problema con sus celdas de memoria aún puede afectar la efectividad del modelo en pronóstico de secuencias largar, reduciendo su capacidad de capturar dependencias temporales profundas.\n",
    "\n",
    "**2. ¿Cómo se aborda la estacionalidad en los datos de series temporales cuando se utilizan LSTM para realizar pronósticos y qué papel juega la diferenciación en el proceso?**\n",
    "\n",
    "Se aborda incorporando características que capturen patrones repetitivos, como incluir datos adicionales que reflejen la preiodicidad (mes o día de la semana) o aplicando transformaciones a los datos. La diferenciación juega un papel clave al eliminar la tendencia y estacionalidad de los datos estabilizando la serie temporal y facilitando que la LSTM enfoque su capacidad de aprendizaje en las fluctuaciones residuales, mejorando la presición del pronóstico. \n",
    "\n",
    "**3. ¿Cuál es el concepto de \"tamaño de ventana\" en el pronóstico de series temporales con LSTM y cómo afecta la elección del tamaño de ventana a la capacidad del modelo para capturar patrones a corto y largo plazo?**\n",
    "\n",
    "El concepto de \"tamaño de ventana\" se refiere a la cantidad de pasos temporales pasados que se utilizan como entrada para predecir los valores futuros. Elegir un tamaño de ventana adecuado es importante, ya que un tamaño pequeño permite capturar patrones a corto plazo, pero puede perder dependencias a largo plazo, mientras que una ventana grande permite al modelo aprender relaciones a largo alcance, pero puede introducir ruido o redundancia y aumentar la complejidad del entrenamiento. "
   ]
  }
 ],
 "metadata": {
  "kernelspec": {
   "display_name": ".venv",
   "language": "python",
   "name": "python3"
  },
  "language_info": {
   "file_extension": ".jl",
   "mimetype": "application/julia",
   "name": "python",
   "version": "3.11.9"
  }
 },
 "nbformat": 4,
 "nbformat_minor": 2
}
